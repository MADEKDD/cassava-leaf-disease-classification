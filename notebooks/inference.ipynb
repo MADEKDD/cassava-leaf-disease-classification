{
 "metadata": {
  "language_info": {
   "codemirror_mode": {
    "name": "ipython",
    "version": 3
   },
   "file_extension": ".py",
   "mimetype": "text/x-python",
   "name": "python",
   "nbconvert_exporter": "python",
   "pygments_lexer": "ipython3",
   "version": "3.7.3-final"
  },
  "orig_nbformat": 2,
  "kernelspec": {
   "name": "python3",
   "display_name": "Python 3.7.3 64-bit",
   "metadata": {
    "interpreter": {
     "hash": "31f2aee4e71d21fbe5cf8b01ff0e069b9275f58929596ceb00d14d90e3e16cd6"
    }
   }
  }
 },
 "nbformat": 4,
 "nbformat_minor": 2,
 "cells": [
  {
   "cell_type": "code",
   "execution_count": 293,
   "metadata": {},
   "outputs": [],
   "source": [
    "import torch\n",
    "import logging\n",
    "import pickle as pkl\n",
    "import pandas as pd\n",
    "from typing import Any, Dict\n",
    "import torch.nn as nn\n",
    "from tqdm import tqdm\n",
    "from torch.cuda.amp import autocast, GradScaler\n",
    "from torchvision.models import resnet\n",
    "import numpy as np\n",
    "from sklearn import metrics\n",
    "import logging\n",
    "import pandas as pd\n",
    "import logging\n",
    "import cv2\n",
    "import albumentations as A\n",
    "from torchvision import models as tvmodels\n",
    "from torch.utils.data import Dataset, DataLoader\n",
    "from sklearn import model_selection\n",
    "from typing import Tuple\n",
    "from albumentations.pytorch import ToTensorV2\n",
    "from sklearn.metrics import confusion_matrix"
   ]
  },
  {
   "cell_type": "code",
   "execution_count": 304,
   "metadata": {},
   "outputs": [],
   "source": [
    "data = read_data(\"../data/external/cassava-leaf-disease-classification-small/train.csv\")"
   ]
  },
  {
   "cell_type": "code",
   "execution_count": 294,
   "metadata": {},
   "outputs": [],
   "source": [
    "model=torch.load(\"../models/cassnet_20-2\", map_location=torch.device('cpu'))"
   ]
  },
  {
   "cell_type": "code",
   "execution_count": 295,
   "metadata": {},
   "outputs": [],
   "source": [
    "def validate_model(model, optimizer, loss, val_dl, device):\n",
    "    with torch.no_grad():\n",
    "        acc, metric = val_one_epoch(model, loss, val_dl, device)\n",
    "    return acc, metric"
   ]
  },
  {
   "cell_type": "code",
   "execution_count": 296,
   "metadata": {},
   "outputs": [],
   "source": [
    "def read_data(path_to_data: str) -> pd.DataFrame:\n",
    "\n",
    "    df: pd.DataFrame = pd.read_csv(path_to_data)\n",
    "    df['label'] = df['label'].astype('string')\n",
    "\n",
    "    return df"
   ]
  },
  {
   "cell_type": "code",
   "execution_count": 297,
   "metadata": {},
   "outputs": [],
   "source": [
    "def train_val_split(\n",
    "        df: pd.DataFrame,\n",
    "        train_img_path: str,\n",
    "        batch_size: int,\n",
    "        num_workers: int,\n",
    "        image_size: int\n",
    ") -> Tuple[DataLoader, DataLoader]:\n",
    "\n",
    "    img_mean = [0.485, 0.456, 0.406]\n",
    "    img_std = [0.229, 0.224, 0.225]\n",
    "\n",
    "    img_size = image_size\n",
    "\n",
    "\n",
    "    train_df, valid_df = model_selection.train_test_split(\n",
    "        df, train_size=0.1\n",
    "    )\n",
    "    train_trans = A.Compose([\n",
    "        A.RandomResizedCrop(img_size, img_size),\n",
    "        A.Transpose(p=0.5),\n",
    "        A.HorizontalFlip(p=0.5),\n",
    "        A.VerticalFlip(p=0.5),\n",
    "        A.ShiftScaleRotate(p=0.5),\n",
    "        A.Normalize(img_mean, img_std),\n",
    "        ToTensorV2(),\n",
    "    ])\n",
    "\n",
    "    val_trans = A.Compose([\n",
    "        A.CenterCrop(img_size, img_size),\n",
    "        A.Normalize(img_mean, img_std),\n",
    "        ToTensorV2(),\n",
    "    ])\n",
    "\n",
    "    test_trans = A.Compose([\n",
    "        A.CenterCrop(img_size, img_size),\n",
    "        A.Normalize(img_mean, img_std),\n",
    "        ToTensorV2(),\n",
    "    ])\n",
    "        \n",
    "    train_ds = GetData(train_df, train_img_path, label_out = True, transform=train_trans)\n",
    "    valid_ds = GetData(valid_df, train_img_path, label_out = True, transform=val_trans)\n",
    "    \n",
    "    train_dl = DataLoader(\n",
    "        train_ds,\n",
    "        batch_size=batch_size,\n",
    "        num_workers=num_workers,\n",
    "        shuffle=True,   \n",
    "    )\n",
    "    val_dl = DataLoader(\n",
    "        valid_ds, \n",
    "        batch_size=batch_size,\n",
    "        num_workers=num_workers,\n",
    "        shuffle=False\n",
    "    )\n",
    "    return train_dl, val_dl"
   ]
  },
  {
   "cell_type": "code",
   "execution_count": 298,
   "metadata": {},
   "outputs": [],
   "source": [
    "class GetData(Dataset):\n",
    "    def __init__(self, df, dirr, label_out=True, transform=None):\n",
    "        super().__init__()\n",
    "        self.dirr = dirr\n",
    "        self.label_out = label_out\n",
    "        self.transform = transform\n",
    "        self.df = df.reset_index(drop=True).copy()\n",
    "        if self.label_out == True:\n",
    "            self.labels = self.df['label'].values\n",
    "    \n",
    "    def __len__(self):\n",
    "        return self.df.shape[0]\n",
    "    \n",
    "    def __getitem__(self, index:int):\n",
    "        img = get_img(\"{}/{}\".format(self.dirr, self.df.loc[index]['image_id']))\n",
    "        if self.label_out == True:\n",
    "            target = float(self.labels[index])\n",
    "        \n",
    "        img = self.transform(image=img)['image']\n",
    "            \n",
    "        if self.label_out:    \n",
    "            return img, target\n",
    "        if not self.label_out:\n",
    "            return img\n",
    "def get_img(path):\n",
    "    im_bgr = cv2.imread(path)\n",
    "    im_rgb = im_bgr[:, :, ::-1]\n",
    "    return im_rgb\n"
   ]
  },
  {
   "cell_type": "code",
   "execution_count": 299,
   "metadata": {},
   "outputs": [],
   "source": [
    "def val_one_epoch(model, loss, data_loader, device):\n",
    "    model.eval()\n",
    "    preds_all = []\n",
    "    targets_all = []\n",
    "    loss_sum = 0\n",
    "    sample_num = 0\n",
    "    pbar = tqdm(enumerate(data_loader), total=len(data_loader))\n",
    "    for step, (imgs, targets) in pbar:\n",
    "        imgs = imgs.to(device).float()\n",
    "        targets = targets.to(device).long()\n",
    "        \n",
    "        preds = model(imgs)\n",
    "        preds_all += [torch.argmax(preds, 1).detach().cpu().numpy()]\n",
    "        targets_all += [targets.detach().cpu().numpy()]\n",
    "        \n",
    "        cost = loss(preds, targets)\n",
    "        \n",
    "        loss_sum += cost.item()*targets.shape[0]\n",
    "        sample_num += targets.shape[0]\n",
    "        \n",
    "    preds_all = np.concatenate(preds_all)\n",
    "    print('preds', preds_all)\n",
    "    targets_all = np.concatenate(targets_all)\n",
    "    print('targets', targets_all)\n",
    "    confusion_matrix(preds_all, targets_all)\n",
    "    #return (preds_all==targets_all).mean()\n",
    "\n",
    "    scores = {\n",
    "        \"precision_recall\": metrics.classification_report(\n",
    "            y_true=targets_all,\n",
    "            y_pred=preds_all\n",
    "        ),\n",
    "         \"accuracy\": metrics.accuracy_score(\n",
    "            y_true=targets_all,\n",
    "            y_pred=preds_all       \n",
    "        )\n",
    "    }\n",
    "    print('accuracy = {:.4f}'.format((preds_all==targets_all).mean()))\n",
    "\n",
    "    return (preds_all==targets_all).mean(), scores"
   ]
  },
  {
   "cell_type": "code",
   "execution_count": 300,
   "metadata": {},
   "outputs": [],
   "source": [
    "device = 'cpu'\n",
    "optimizer = torch.optim.Adam(model.parameters())\n",
    "weight = torch.tensor([1087/21397, 2189/21397, 2386/21397,13158/21397, 2577/21397], dtype=torch.float, device='cpu')\n",
    "loss = nn.CrossEntropyLoss(weight=weight).to(device)"
   ]
  },
  {
   "cell_type": "code",
   "execution_count": 301,
   "metadata": {},
   "outputs": [],
   "source": [
    "train_df, valid_df = train_val_split(\n",
    "        data,\n",
    "        \"../data/external/cassava-leaf-disease-classification-small/train_images/\", 20,0, 224)"
   ]
  },
  {
   "cell_type": "code",
   "execution_count": 307,
   "metadata": {},
   "outputs": [
    {
     "output_type": "stream",
     "name": "stderr",
     "text": [
      "100%|██████████| 1/1 [00:01<00:00,  1.30s/it]preds [1 3 3 3 1 1 1 3 3 3 3 3 3 3 3 2 3 3]\n",
      "targets [4 1 1 1 4 3 1 1 1 3 1 1 2 1 2 1 1 1]\n",
      "accuracy = 0.1111\n",
      "\n"
     ]
    }
   ],
   "source": [
    "    acc, metric = validate_model(model, optimizer, loss, valid_df, device\n",
    "    )"
   ]
  }
 ]
}